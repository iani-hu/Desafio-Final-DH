{
 "cells": [
  {
   "cell_type": "markdown",
   "metadata": {},
   "source": [
    "### En esta Jupyter Notebook vamos a unir los datasets de reclamos 2018/2019 y de arbolado lineal para generar un nuevo csv"
   ]
  },
  {
   "cell_type": "markdown",
   "metadata": {},
   "source": [
    "***"
   ]
  },
  {
   "cell_type": "markdown",
   "metadata": {},
   "source": [
    "**Importacion de librerias**"
   ]
  },
  {
   "cell_type": "code",
   "execution_count": 4,
   "metadata": {},
   "outputs": [],
   "source": [
    "import numpy as np\n",
    "import pandas as pd\n",
    "import re"
   ]
  },
  {
   "cell_type": "markdown",
   "metadata": {},
   "source": [
    "**Seteamos propiedades de Pandas**"
   ]
  },
  {
   "cell_type": "code",
   "execution_count": 5,
   "metadata": {},
   "outputs": [],
   "source": [
    "pd.set_option(\"display.max_columns\", 500)\n",
    "pd.set_option(\"display.max_rows\", 100)"
   ]
  },
  {
   "cell_type": "markdown",
   "metadata": {},
   "source": [
    "**Cargamos Dataset de Reclamos 2018 y 2019, y Arbolado Lineal Publico**"
   ]
  },
  {
   "cell_type": "code",
   "execution_count": 6,
   "metadata": {},
   "outputs": [],
   "source": [
    "df_19 = pd.read_csv('sistema-unico-de-atencion-ciudadana-2019.csv', index_col=0)\n",
    "df_18 = pd.read_csv('sistema-unico-de-atencion-ciudadana-2018.csv', index_col=0)\n",
    "df_arb = pd.read_csv(\"arbolado-publico-lineal.csv\")"
   ]
  },
  {
   "cell_type": "markdown",
   "metadata": {},
   "source": [
    "**Reseteamos índices y pasamos nombre de columnas a minúsculas**"
   ]
  },
  {
   "cell_type": "code",
   "execution_count": 7,
   "metadata": {},
   "outputs": [],
   "source": [
    "df_19.reset_index( inplace=True )\n",
    "df_18.reset_index( inplace=True )\n",
    "\n",
    "df_19.columns = map(str.lower, df_19.columns)\n",
    "df_18.columns = map(str.lower, df_18.columns)"
   ]
  },
  {
   "cell_type": "markdown",
   "metadata": {},
   "source": [
    "**Declaración de funciones para eliminar acentos y mergear dataframes**"
   ]
  },
  {
   "cell_type": "code",
   "execution_count": 8,
   "metadata": {},
   "outputs": [],
   "source": [
    "def remove_accents( col ):\n",
    "    return col.str.replace(\"Á\", \"A\").str.replace(\"É\", \"E\").str.replace(\"Í\", \"I\").str.replace(\"Ó\", \"O\").str.replace(\"Ú\", \"U\")\n",
    "\n",
    "def merge_df( df_a, df_b ):\n",
    "    return pd.merge(df_a, df_b, left_on=['domicilio_calle','domicilio_altura'], right_on=['calle','chapa1'])"
   ]
  },
  {
   "cell_type": "markdown",
   "metadata": {},
   "source": [
    "**Pasamos a mayúsculas el nombre de las calles en el dataframe de Arbolado lineal**"
   ]
  },
  {
   "cell_type": "code",
   "execution_count": 9,
   "metadata": {},
   "outputs": [],
   "source": [
    "df_arb.calle = df_arb.calle.apply( lambda x: str.upper(x))"
   ]
  },
  {
   "cell_type": "markdown",
   "metadata": {},
   "source": [
    "**Concatenamos dataframes de reclamos del 2018 y 2019**"
   ]
  },
  {
   "cell_type": "code",
   "execution_count": 10,
   "metadata": {},
   "outputs": [],
   "source": [
    "dfs = [ df_18, df_19 ]\n",
    "total_claims = pd.concat(dfs)"
   ]
  },
  {
   "cell_type": "markdown",
   "metadata": {},
   "source": [
    "**Removemos acentos del DF resultante**"
   ]
  },
  {
   "cell_type": "code",
   "execution_count": 11,
   "metadata": {},
   "outputs": [],
   "source": [
    "columnas = [ 'categoria', 'subcategoria', 'concepto' ]\n",
    "for col in columnas:\n",
    "    total_claims[ col ] = remove_accents( total_claims[ col ] )\n",
    "    "
   ]
  },
  {
   "cell_type": "code",
   "execution_count": 12,
   "metadata": {},
   "outputs": [],
   "source": [
    "df = df_arb"
   ]
  },
  {
   "cell_type": "code",
   "execution_count": 13,
   "metadata": {},
   "outputs": [],
   "source": [
    "#df[(df['chapa1']== 0) & (df['chapa2'] != 0)]\n",
    "df.chapa1 = df.apply(lambda x: x.chapa2 if (x.chapa1== 0) & (x.chapa2 != 0) else x.chapa1 ,axis=1)"
   ]
  },
  {
   "cell_type": "markdown",
   "metadata": {},
   "source": [
    "**Mergeamos DFs de Reclamos y Arboles**"
   ]
  },
  {
   "cell_type": "code",
   "execution_count": 14,
   "metadata": {},
   "outputs": [],
   "source": [
    "merged_dfs = merge_df( total_claims[ ( total_claims.categoria == 'ARBOLADO Y ESPACIOS VERDES' ) ], df_arb )"
   ]
  },
  {
   "cell_type": "code",
   "execution_count": 15,
   "metadata": {},
   "outputs": [],
   "source": [
    "merged_dfs.to_csv('reclamos_con_arboles.csv')"
   ]
  }
 ],
 "metadata": {
  "kernelspec": {
   "display_name": "Python 3",
   "language": "python",
   "name": "python3"
  },
  "language_info": {
   "codemirror_mode": {
    "name": "ipython",
    "version": 3
   },
   "file_extension": ".py",
   "mimetype": "text/x-python",
   "name": "python",
   "nbconvert_exporter": "python",
   "pygments_lexer": "ipython3",
   "version": "3.7.1"
  }
 },
 "nbformat": 4,
 "nbformat_minor": 2
}
